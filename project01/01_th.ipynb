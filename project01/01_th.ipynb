{
 "cells": [
  {
   "cell_type": "markdown",
   "metadata": {},
   "source": [
    "**일단 목표를 생각해라!**\n",
    "\n",
    "**이런 형태를 만드는것이 목표**\n",
    "\n",
    "```python\n",
    "{\n",
    "    '20196309': {\n",
    "        'movieCd': '20196309',\n",
    "        'movieNm': '스파이더맨',\n",
    "        'audiAcc': 6685161\n",
    "    },\n",
    "    '20196301': {\n",
    "        'movieCd': '20196301',\n",
    "        'movieNm': '알라딘',\n",
    "        'audiAcc': 1355161\n",
    "    }\n",
    "}\n",
    "```"
   ]
  },
  {
   "cell_type": "code",
   "execution_count": null,
   "metadata": {},
   "outputs": [],
   "source": [
    "import requests\n",
    "\n",
    "key = '___'\n",
    "targetDt = '20190713' # yyyymmdd\n",
    "api_url = f'http://www.kobis.or.kr/kobisopenapi/webservice/rest/boxoffice/searchWeeklyBoxOfficeList.json?key={key}&targetDt={targetDt}&weekGb={week}'\n",
    "print(api_url)\n",
    "response = requests.get(api_url).json()"
   ]
  },
  {
   "cell_type": "code",
   "execution_count": null,
   "metadata": {},
   "outputs": [],
   "source": [
    "for i in range(0,10):\n",
    "    movieCd = response['boxOfficeResult']['weeklyBoxOfficeList'][i]['movieCd']\n",
    "    movieNm = response['boxOfficeResult']['weeklyBoxOfficeList'][i]['movieNm']\n",
    "    audiAcc = response['boxOfficeResult']['weeklyBoxOfficeList'][i]['audiAcc']\n",
    "    print(moviCd, movieNm, audiAcc)"
   ]
  },
  {
   "cell_type": "code",
   "execution_count": null,
   "metadata": {},
   "outputs": [],
   "source": [
    "for movie in response['boxOfficeResult']['weeklyBoxOfficeList']:\n",
    "    movieCd = movie.get('movieCd')\n",
    "    movieNm = movie.get('movieNm')\n",
    "    audiAcc = movie.get('audiAcc')\n",
    "    print(moviCd, movieNm, audiAcc)"
   ]
  },
  {
   "cell_type": "code",
   "execution_count": null,
   "metadata": {},
   "outputs": [],
   "source": [
    "movie_data = {}\n",
    "for movie in response['boxOfficeResult']['weeklyBoxOfficeList']:\n",
    "    movie_data[movie.get('movieCd')] = {\n",
    "        '영화코드': movie.get('movieCd'),\n",
    "        '누적관객수': movie.get('audiAcc'),\n",
    "        '영화명': movie.get('movieNm')\n",
    "    }\n",
    "print(movie_data)"
   ]
  },
  {
   "cell_type": "code",
   "execution_count": null,
   "metadata": {},
   "outputs": [],
   "source": [
    "# 1주 딕셔너리 완성본\n",
    "import requests\n",
    "\n",
    "key = '___'\n",
    "targetDt = '20190713' # yyyymmdd\n",
    "api_url = f'http://www.kobis.or.kr/kobisopenapi/webservice/rest/boxoffice/searchWeeklyBoxOfficeList.json?key={key}&targetDt={targetDt}&weekGb={week}'\n",
    "print(api_url)\n",
    "response = requests.get(api_url).json()\n",
    "\n",
    "movie_data = {}\n",
    "for movie in response['boxOfficeResult']['weeklyBoxOfficeList']:\n",
    "    movie_data[movie.get('movieCd')] = {\n",
    "        '영화코드': movie.get('movieCd'),\n",
    "        '누적관객수': movie.get('audiAcc'),\n",
    "        '영화명': movie.get('movieNm')\n",
    "    }\n",
    "print(movie_data)"
   ]
  },
  {
   "cell_type": "code",
   "execution_count": null,
   "metadata": {},
   "outputs": [],
   "source": [
    "# 50주 및 중복 제거 완성본\n",
    "import requests\n",
    "import csv\n",
    "from datetime import datetime, timedelta\n",
    "\n",
    "key = '___'\n",
    "week = '0'\n",
    "movie_data = {}\n",
    "\n",
    "for i in range(5):\n",
    "    targetDt = datetime.datetime(2019, 7, 13) - datetime.timedelta(weeks=i)\n",
    "    targetDt = targetDt.strftime('%Y%m%d')\n",
    "    api_url = f'http://www.kobis.or.kr/kobisopenapi/webservice/rest/boxoffice/searchWeeklyBoxOfficeList.json?key={key}&targetDt={targetDt}&weekGb={week}'\n",
    "    response = requests.get(api_url).json()\n",
    "    for movie in response['boxOfficeResult']['weeklyBoxOfficeList']:\n",
    "        movie_data[movie.get('movieCd')] = {\n",
    "                                            '영화코드': movie.get('movieCd'),\n",
    "                                            '누적관객수': movie.get('audiAcc'),\n",
    "                                            '영화명': movie.get('movieNm')\n",
    "                                        }\n",
    "print(movie_data)"
   ]
  }
 ],
 "metadata": {
  "kernelspec": {
   "display_name": "Python 3",
   "language": "python",
   "name": "python3"
  },
  "language_info": {
   "codemirror_mode": {
    "name": "ipython",
    "version": 3
   },
   "file_extension": ".py",
   "mimetype": "text/x-python",
   "name": "python",
   "nbconvert_exporter": "python",
   "pygments_lexer": "ipython3",
   "version": "3.7.3"
  },
  "toc": {
   "base_numbering": 1,
   "nav_menu": {},
   "number_sections": true,
   "sideBar": true,
   "skip_h1_title": false,
   "title_cell": "Table of Contents",
   "title_sidebar": "Contents",
   "toc_cell": false,
   "toc_position": {},
   "toc_section_display": true,
   "toc_window_display": false
  }
 },
 "nbformat": 4,
 "nbformat_minor": 2
}
